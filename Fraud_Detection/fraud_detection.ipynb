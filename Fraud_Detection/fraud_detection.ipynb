{
 "cells": [
  {
   "cell_type": "markdown",
   "metadata": {},
   "source": [
    "<h1>Fraud Detection USING LSTM | Bidirectional RNN </h1>"
   ]
  },
  {
   "cell_type": "code",
   "execution_count": 16,
   "metadata": {},
   "outputs": [
    {
     "name": "stdout",
     "output_type": "stream",
     "text": [
      "Dataset Path: \n",
      "./fake-news/submit.csv\n",
      "./fake-news/test.csv\n",
      "./fake-news/train.csv\n"
     ]
    }
   ],
   "source": [
    "import os\n",
    "print(\"Dataset Path: \")\n",
    "for dirname, _, filenames in os.walk('./fake-news/'):\n",
    "    for filename in filenames:\n",
    "        print(os.path.join(dirname, filename))"
   ]
  },
  {
   "cell_type": "code",
   "execution_count": 17,
   "metadata": {},
   "outputs": [
    {
     "name": "stderr",
     "output_type": "stream",
     "text": [
      "[nltk_data] Downloading package stopwords to\n",
      "[nltk_data]     /Users/mubeen/nltk_data...\n",
      "[nltk_data]   Package stopwords is already up-to-date!\n"
     ]
    }
   ],
   "source": [
    "import pandas as pd\n",
    "import numpy as np\n",
    "import matplotlib.pyplot as plt\n",
    "import seaborn as sns\n",
    "import nltk\n",
    "import re\n",
    "from nltk.corpus import stopwords\n",
    "nltk.download('stopwords')\n",
    "from nltk.stem.porter import PorterStemmer\n",
    "import tensorflow as tf\n",
    "from tensorflow.keras.layers import Embedding\n",
    "from tensorflow.keras.preprocessing.sequence import pad_sequences\n",
    "from tensorflow.keras.models import Sequential\n",
    "from tensorflow.keras.preprocessing.text import one_hot\n",
    "from tensorflow.keras.layers import Dropout\n",
    "from tensorflow.keras.layers import LSTM, SimpleRNN, Bidirectional\n",
    "from tensorflow.keras.layers import Dense\n",
    "from sklearn.model_selection import train_test_split\n",
    "from sklearn.metrics import confusion_matrix\n",
    "from sklearn.metrics import accuracy_score\n",
    "from sklearn.metrics import classification_report\n",
    "# tf.__version__\n",
    "\n",
    "\n",
    "import warnings \n",
    "warnings.filterwarnings(\"ignore\")"
   ]
  },
  {
   "cell_type": "code",
   "execution_count": 48,
   "metadata": {},
   "outputs": [
    {
     "name": "stdout",
     "output_type": "stream",
     "text": [
      "      id                                              title  \\\n",
      "0  20800  Specter of Trump Loosens Tongues, if Not Purse...   \n",
      "1  20801  Russian warships ready to strike terrorists ne...   \n",
      "2  20802  #NoDAPL: Native American Leaders Vow to Stay A...   \n",
      "3  20803  Tim Tebow Will Attempt Another Comeback, This ...   \n",
      "4  20804                    Keiser Report: Meme Wars (E995)   \n",
      "\n",
      "                    author                                               text  \n",
      "0         David Streitfeld  PALO ALTO, Calif.  —   After years of scorning...  \n",
      "1                      NaN  Russian warships ready to strike terrorists ne...  \n",
      "2            Common Dreams  Videos #NoDAPL: Native American Leaders Vow to...  \n",
      "3            Daniel Victor  If at first you don’t succeed, try a different...  \n",
      "4  Truth Broadcast Network  42 mins ago 1 Views 0 Comments 0 Likes 'For th...   (5200, 4)\n"
     ]
    }
   ],
   "source": [
    "train = pd.read_csv(\"./fake-news/train.csv\")\n",
    "test = pd.read_csv(\"./fake-news/test.csv\")\n",
    "\n",
    "train.head(), train.shape\n",
    "print(test.head(), test.shape)\n"
   ]
  },
  {
   "cell_type": "code",
   "execution_count": 47,
   "metadata": {},
   "outputs": [
    {
     "name": "stdout",
     "output_type": "stream",
     "text": [
      "0        1\n",
      "1        0\n",
      "2        1\n",
      "3        1\n",
      "4        1\n",
      "        ..\n",
      "20795    0\n",
      "20796    0\n",
      "20797    0\n",
      "20798    1\n",
      "20799    1\n",
      "Name: label, Length: 18285, dtype: int64\n"
     ]
    },
    {
     "data": {
      "text/plain": [
       "(18285,)"
      ]
     },
     "execution_count": 47,
     "metadata": {},
     "output_type": "execute_result"
    }
   ],
   "source": [
    "df = train.dropna()\n",
    "X = df.drop(\"label\", axis = 1)\n",
    "# X.shape\n",
    "\n",
    "y = df[\"label\"]\n",
    "# X.shape\n",
    "print(y)\n",
    "y.shape"
   ]
  },
  {
   "cell_type": "code",
   "execution_count": 44,
   "metadata": {},
   "outputs": [
    {
     "data": {
      "text/html": [
       "<div>\n",
       "<style scoped>\n",
       "    .dataframe tbody tr th:only-of-type {\n",
       "        vertical-align: middle;\n",
       "    }\n",
       "\n",
       "    .dataframe tbody tr th {\n",
       "        vertical-align: top;\n",
       "    }\n",
       "\n",
       "    .dataframe thead th {\n",
       "        text-align: right;\n",
       "    }\n",
       "</style>\n",
       "<table border=\"1\" class=\"dataframe\">\n",
       "  <thead>\n",
       "    <tr style=\"text-align: right;\">\n",
       "      <th></th>\n",
       "      <th>index</th>\n",
       "      <th>id</th>\n",
       "      <th>title</th>\n",
       "      <th>author</th>\n",
       "      <th>text</th>\n",
       "    </tr>\n",
       "  </thead>\n",
       "  <tbody>\n",
       "    <tr>\n",
       "      <th>0</th>\n",
       "      <td>0</td>\n",
       "      <td>0</td>\n",
       "      <td>House Dem Aide: We Didn’t Even See Comey’s Let...</td>\n",
       "      <td>Darrell Lucus</td>\n",
       "      <td>House Dem Aide: We Didn’t Even See Comey’s Let...</td>\n",
       "    </tr>\n",
       "    <tr>\n",
       "      <th>1</th>\n",
       "      <td>1</td>\n",
       "      <td>1</td>\n",
       "      <td>FLYNN: Hillary Clinton, Big Woman on Campus - ...</td>\n",
       "      <td>Daniel J. Flynn</td>\n",
       "      <td>Ever get the feeling your life circles the rou...</td>\n",
       "    </tr>\n",
       "    <tr>\n",
       "      <th>2</th>\n",
       "      <td>2</td>\n",
       "      <td>2</td>\n",
       "      <td>Why the Truth Might Get You Fired</td>\n",
       "      <td>Consortiumnews.com</td>\n",
       "      <td>Why the Truth Might Get You Fired October 29, ...</td>\n",
       "    </tr>\n",
       "    <tr>\n",
       "      <th>3</th>\n",
       "      <td>3</td>\n",
       "      <td>3</td>\n",
       "      <td>15 Civilians Killed In Single US Airstrike Hav...</td>\n",
       "      <td>Jessica Purkiss</td>\n",
       "      <td>Videos 15 Civilians Killed In Single US Airstr...</td>\n",
       "    </tr>\n",
       "    <tr>\n",
       "      <th>4</th>\n",
       "      <td>4</td>\n",
       "      <td>4</td>\n",
       "      <td>Iranian woman jailed for fictional unpublished...</td>\n",
       "      <td>Howard Portnoy</td>\n",
       "      <td>Print \\nAn Iranian woman has been sentenced to...</td>\n",
       "    </tr>\n",
       "    <tr>\n",
       "      <th>...</th>\n",
       "      <td>...</td>\n",
       "      <td>...</td>\n",
       "      <td>...</td>\n",
       "      <td>...</td>\n",
       "      <td>...</td>\n",
       "    </tr>\n",
       "    <tr>\n",
       "      <th>18280</th>\n",
       "      <td>20795</td>\n",
       "      <td>20795</td>\n",
       "      <td>Rapper T.I.: Trump a ’Poster Child For White S...</td>\n",
       "      <td>Jerome Hudson</td>\n",
       "      <td>Rapper T. I. unloaded on black celebrities who...</td>\n",
       "    </tr>\n",
       "    <tr>\n",
       "      <th>18281</th>\n",
       "      <td>20796</td>\n",
       "      <td>20796</td>\n",
       "      <td>N.F.L. Playoffs: Schedule, Matchups and Odds -...</td>\n",
       "      <td>Benjamin Hoffman</td>\n",
       "      <td>When the Green Bay Packers lost to the Washing...</td>\n",
       "    </tr>\n",
       "    <tr>\n",
       "      <th>18282</th>\n",
       "      <td>20797</td>\n",
       "      <td>20797</td>\n",
       "      <td>Macy’s Is Said to Receive Takeover Approach by...</td>\n",
       "      <td>Michael J. de la Merced and Rachel Abrams</td>\n",
       "      <td>The Macy’s of today grew from the union of sev...</td>\n",
       "    </tr>\n",
       "    <tr>\n",
       "      <th>18283</th>\n",
       "      <td>20798</td>\n",
       "      <td>20798</td>\n",
       "      <td>NATO, Russia To Hold Parallel Exercises In Bal...</td>\n",
       "      <td>Alex Ansary</td>\n",
       "      <td>NATO, Russia To Hold Parallel Exercises In Bal...</td>\n",
       "    </tr>\n",
       "    <tr>\n",
       "      <th>18284</th>\n",
       "      <td>20799</td>\n",
       "      <td>20799</td>\n",
       "      <td>What Keeps the F-35 Alive</td>\n",
       "      <td>David Swanson</td>\n",
       "      <td>David Swanson is an author, activist, journa...</td>\n",
       "    </tr>\n",
       "  </tbody>\n",
       "</table>\n",
       "<p>18285 rows × 5 columns</p>\n",
       "</div>"
      ],
      "text/plain": [
       "       index     id                                              title  \\\n",
       "0          0      0  House Dem Aide: We Didn’t Even See Comey’s Let...   \n",
       "1          1      1  FLYNN: Hillary Clinton, Big Woman on Campus - ...   \n",
       "2          2      2                  Why the Truth Might Get You Fired   \n",
       "3          3      3  15 Civilians Killed In Single US Airstrike Hav...   \n",
       "4          4      4  Iranian woman jailed for fictional unpublished...   \n",
       "...      ...    ...                                                ...   \n",
       "18280  20795  20795  Rapper T.I.: Trump a ’Poster Child For White S...   \n",
       "18281  20796  20796  N.F.L. Playoffs: Schedule, Matchups and Odds -...   \n",
       "18282  20797  20797  Macy’s Is Said to Receive Takeover Approach by...   \n",
       "18283  20798  20798  NATO, Russia To Hold Parallel Exercises In Bal...   \n",
       "18284  20799  20799                          What Keeps the F-35 Alive   \n",
       "\n",
       "                                          author  \\\n",
       "0                                  Darrell Lucus   \n",
       "1                                Daniel J. Flynn   \n",
       "2                             Consortiumnews.com   \n",
       "3                                Jessica Purkiss   \n",
       "4                                 Howard Portnoy   \n",
       "...                                          ...   \n",
       "18280                              Jerome Hudson   \n",
       "18281                           Benjamin Hoffman   \n",
       "18282  Michael J. de la Merced and Rachel Abrams   \n",
       "18283                                Alex Ansary   \n",
       "18284                              David Swanson   \n",
       "\n",
       "                                                    text  \n",
       "0      House Dem Aide: We Didn’t Even See Comey’s Let...  \n",
       "1      Ever get the feeling your life circles the rou...  \n",
       "2      Why the Truth Might Get You Fired October 29, ...  \n",
       "3      Videos 15 Civilians Killed In Single US Airstr...  \n",
       "4      Print \\nAn Iranian woman has been sentenced to...  \n",
       "...                                                  ...  \n",
       "18280  Rapper T. I. unloaded on black celebrities who...  \n",
       "18281  When the Green Bay Packers lost to the Washing...  \n",
       "18282  The Macy’s of today grew from the union of sev...  \n",
       "18283  NATO, Russia To Hold Parallel Exercises In Bal...  \n",
       "18284    David Swanson is an author, activist, journa...  \n",
       "\n",
       "[18285 rows x 5 columns]"
      ]
     },
     "execution_count": 44,
     "metadata": {},
     "output_type": "execute_result"
    }
   ],
   "source": [
    "messages=X.copy()\n",
    "messages['title'][1]\n",
    "messages.reset_index(inplace=True)\n",
    "messages"
   ]
  },
  {
   "cell_type": "markdown",
   "metadata": {},
   "source": [
    "<H2>Vectorization & Embeddings</h2>"
   ]
  },
  {
   "cell_type": "code",
   "execution_count": 32,
   "metadata": {},
   "outputs": [],
   "source": [
    "ps = PorterStemmer()\n",
    "corpus = []\n",
    "for i in range(0, len(messages)):\n",
    "    review = re.sub('[^a-zA-Z]', ' ', messages['title'][i])\n",
    "    review = review.lower()\n",
    "    review = review.split()\n",
    "    \n",
    "    review = [ps.stem(word) for word in review if not word in stopwords.words('english')]\n",
    "    review = ' '.join(review)\n",
    "    corpus.append(review)\n"
   ]
  },
  {
   "cell_type": "code",
   "execution_count": 33,
   "metadata": {},
   "outputs": [
    {
     "data": {
      "text/plain": [
       "(array([[   0,    0,    0, ..., 6125, 2993,   54],\n",
       "        [   0,    0,    0, ..., 6281, 5363, 9733],\n",
       "        [   0,    0,    0, ..., 9686, 8761, 8514],\n",
       "        ...,\n",
       "        [   0,    0,    0, ..., 2609, 8235, 1558],\n",
       "        [   0,    0,    0, ..., 9768, 6451, 8149],\n",
       "        [   0,    0,    0, ..., 4578, 6736, 4933]], dtype=int32),\n",
       " 18285,\n",
       " (18285,))"
      ]
     },
     "execution_count": 33,
     "metadata": {},
     "output_type": "execute_result"
    }
   ],
   "source": [
    "voc = 10000\n",
    "onehot_repr=[one_hot(words,voc)for words in corpus]\n",
    "\n",
    "sent_length = 20 \n",
    "embedded_docs = pad_sequences(onehot_repr, padding='pre', maxlen=sent_length)\n",
    "embedded_docs, len(embedded_docs),y.shape"
   ]
  },
  {
   "cell_type": "code",
   "execution_count": 34,
   "metadata": {},
   "outputs": [
    {
     "data": {
      "text/plain": [
       "((18285, 20), (18285,))"
      ]
     },
     "execution_count": 34,
     "metadata": {},
     "output_type": "execute_result"
    }
   ],
   "source": [
    "X_final=np.array(embedded_docs)\n",
    "y_final=np.array(y)\n",
    "\n",
    "X_final.shape,y_final.shape"
   ]
  },
  {
   "cell_type": "markdown",
   "metadata": {},
   "source": [
    "<H4>Split Data </H4>"
   ]
  },
  {
   "cell_type": "code",
   "execution_count": 35,
   "metadata": {},
   "outputs": [],
   "source": [
    "X_train, X_test, y_train, y_test = train_test_split(X_final, y_final, test_size=0.33, random_state=42)"
   ]
  },
  {
   "cell_type": "code",
   "execution_count": 36,
   "metadata": {},
   "outputs": [
    {
     "data": {
      "text/plain": [
       "(array([1, 1, 0, ..., 0, 0, 1]), (12250,))"
      ]
     },
     "execution_count": 36,
     "metadata": {},
     "output_type": "execute_result"
    }
   ],
   "source": [
    "y_train,y_train.shape"
   ]
  },
  {
   "cell_type": "code",
   "execution_count": 37,
   "metadata": {},
   "outputs": [
    {
     "data": {
      "text/plain": [
       "array([[   0,    0,    0, ...,    0,    0, 3374],\n",
       "       [   0,    0,    0, ...,    0,    0,  513],\n",
       "       [   0,    0,    0, ..., 2609, 8235, 1558],\n",
       "       ...,\n",
       "       [   0,    0,    0, ..., 2609, 8235, 1558],\n",
       "       [   0,    0,    0, ..., 1724,  507, 9733],\n",
       "       [   0,    0,    0, ..., 3384, 3917, 6969]], dtype=int32)"
      ]
     },
     "execution_count": 37,
     "metadata": {},
     "output_type": "execute_result"
    }
   ],
   "source": [
    "X_train"
   ]
  },
  {
   "cell_type": "markdown",
   "metadata": {},
   "source": [
    "<h1>Bi-Directional LSTM </h1>"
   ]
  },
  {
   "cell_type": "code",
   "execution_count": 38,
   "metadata": {},
   "outputs": [
    {
     "name": "stdout",
     "output_type": "stream",
     "text": [
      "Model: \"sequential_1\"\n",
      "_________________________________________________________________\n",
      " Layer (type)                Output Shape              Param #   \n",
      "=================================================================\n",
      " embedding_1 (Embedding)     (None, 20, 40)            400000    \n",
      "                                                                 \n",
      " bidirectional_1 (Bidirecti  (None, 200)               112800    \n",
      " onal)                                                           \n",
      "                                                                 \n",
      " dropout_1 (Dropout)         (None, 200)               0         \n",
      "                                                                 \n",
      " dense_1 (Dense)             (None, 1)                 201       \n",
      "                                                                 \n",
      "=================================================================\n",
      "Total params: 513001 (1.96 MB)\n",
      "Trainable params: 513001 (1.96 MB)\n",
      "Non-trainable params: 0 (0.00 Byte)\n",
      "_________________________________________________________________\n"
     ]
    }
   ],
   "source": [
    "embedding_vector_features=40\n",
    "bid=Sequential()\n",
    "bid.add(Embedding(voc,embedding_vector_features,input_length=sent_length))\n",
    "bid.add(Bidirectional(LSTM(100)))\n",
    "bid.add(Dropout(0.3))\n",
    "bid.add(Dense(1,activation='sigmoid'))\n",
    "bid.compile(loss='binary_crossentropy',optimizer='adam',metrics=['accuracy'])\n",
    "bid.summary()"
   ]
  },
  {
   "cell_type": "code",
   "execution_count": 39,
   "metadata": {},
   "outputs": [
    {
     "name": "stdout",
     "output_type": "stream",
     "text": [
      "Epoch 1/20\n"
     ]
    },
    {
     "name": "stderr",
     "output_type": "stream",
     "text": [
      "2023-10-31 10:47:07.610907: I tensorflow/core/grappler/optimizers/custom_graph_optimizer_registry.cc:114] Plugin optimizer for device_type GPU is enabled.\n",
      "2023-10-31 10:47:07.954988: I tensorflow/core/grappler/optimizers/custom_graph_optimizer_registry.cc:114] Plugin optimizer for device_type GPU is enabled.\n",
      "2023-10-31 10:47:07.981776: I tensorflow/core/grappler/optimizers/custom_graph_optimizer_registry.cc:114] Plugin optimizer for device_type GPU is enabled.\n",
      "2023-10-31 10:47:08.156086: I tensorflow/core/grappler/optimizers/custom_graph_optimizer_registry.cc:114] Plugin optimizer for device_type GPU is enabled.\n"
     ]
    },
    {
     "name": "stdout",
     "output_type": "stream",
     "text": [
      "  1/192 [..............................] - ETA: 6:33 - loss: 0.6932 - accuracy: 0.5312"
     ]
    },
    {
     "name": "stderr",
     "output_type": "stream",
     "text": [
      "2023-10-31 10:47:08.187501: I tensorflow/core/grappler/optimizers/custom_graph_optimizer_registry.cc:114] Plugin optimizer for device_type GPU is enabled.\n"
     ]
    },
    {
     "name": "stdout",
     "output_type": "stream",
     "text": [
      "192/192 [==============================] - ETA: 0s - loss: 0.2964 - accuracy: 0.8619"
     ]
    },
    {
     "name": "stderr",
     "output_type": "stream",
     "text": [
      "2023-10-31 10:47:14.182896: I tensorflow/core/grappler/optimizers/custom_graph_optimizer_registry.cc:114] Plugin optimizer for device_type GPU is enabled.\n",
      "2023-10-31 10:47:14.284642: I tensorflow/core/grappler/optimizers/custom_graph_optimizer_registry.cc:114] Plugin optimizer for device_type GPU is enabled.\n",
      "2023-10-31 10:47:14.298968: I tensorflow/core/grappler/optimizers/custom_graph_optimizer_registry.cc:114] Plugin optimizer for device_type GPU is enabled.\n"
     ]
    },
    {
     "name": "stdout",
     "output_type": "stream",
     "text": [
      "192/192 [==============================] - 9s 37ms/step - loss: 0.2964 - accuracy: 0.8619 - val_loss: 0.1909 - val_accuracy: 0.9178\n",
      "Epoch 2/20\n",
      "192/192 [==============================] - 6s 29ms/step - loss: 0.1245 - accuracy: 0.9538 - val_loss: 0.1951 - val_accuracy: 0.9193\n",
      "Epoch 3/20\n",
      "192/192 [==============================] - 5s 29ms/step - loss: 0.0749 - accuracy: 0.9724 - val_loss: 0.2449 - val_accuracy: 0.9150\n",
      "Epoch 4/20\n",
      "192/192 [==============================] - 6s 30ms/step - loss: 0.0460 - accuracy: 0.9849 - val_loss: 0.2959 - val_accuracy: 0.9138\n",
      "Epoch 5/20\n",
      "192/192 [==============================] - 6s 29ms/step - loss: 0.0332 - accuracy: 0.9898 - val_loss: 0.3170 - val_accuracy: 0.9176\n",
      "Epoch 6/20\n",
      "192/192 [==============================] - 6s 30ms/step - loss: 0.0233 - accuracy: 0.9931 - val_loss: 0.3618 - val_accuracy: 0.9097\n",
      "Epoch 7/20\n",
      "192/192 [==============================] - 6s 29ms/step - loss: 0.0173 - accuracy: 0.9941 - val_loss: 0.3893 - val_accuracy: 0.9130\n",
      "Epoch 8/20\n",
      "192/192 [==============================] - 5s 29ms/step - loss: 0.0114 - accuracy: 0.9966 - val_loss: 0.5092 - val_accuracy: 0.9079\n",
      "Epoch 9/20\n",
      "192/192 [==============================] - 5s 29ms/step - loss: 0.0117 - accuracy: 0.9962 - val_loss: 0.4757 - val_accuracy: 0.9123\n",
      "Epoch 10/20\n",
      "192/192 [==============================] - 6s 29ms/step - loss: 0.0079 - accuracy: 0.9973 - val_loss: 0.4925 - val_accuracy: 0.9118\n",
      "Epoch 11/20\n",
      "192/192 [==============================] - 6s 29ms/step - loss: 0.0070 - accuracy: 0.9977 - val_loss: 0.5336 - val_accuracy: 0.9145\n",
      "Epoch 12/20\n",
      "192/192 [==============================] - 5s 29ms/step - loss: 0.0021 - accuracy: 0.9995 - val_loss: 0.6084 - val_accuracy: 0.9133\n",
      "Epoch 13/20\n",
      "192/192 [==============================] - 5s 29ms/step - loss: 0.0035 - accuracy: 0.9990 - val_loss: 0.5642 - val_accuracy: 0.9109\n",
      "Epoch 14/20\n",
      "192/192 [==============================] - 5s 29ms/step - loss: 0.0037 - accuracy: 0.9989 - val_loss: 0.6351 - val_accuracy: 0.9087\n",
      "Epoch 15/20\n",
      "192/192 [==============================] - 5s 29ms/step - loss: 0.0051 - accuracy: 0.9987 - val_loss: 0.5292 - val_accuracy: 0.9110\n",
      "Epoch 16/20\n",
      "192/192 [==============================] - 5s 28ms/step - loss: 0.0042 - accuracy: 0.9985 - val_loss: 0.5904 - val_accuracy: 0.9122\n",
      "Epoch 17/20\n",
      "192/192 [==============================] - 5s 28ms/step - loss: 0.0014 - accuracy: 0.9997 - val_loss: 0.6751 - val_accuracy: 0.9120\n",
      "Epoch 18/20\n",
      "192/192 [==============================] - 5s 29ms/step - loss: 4.8910e-04 - accuracy: 1.0000 - val_loss: 0.7640 - val_accuracy: 0.9075\n",
      "Epoch 19/20\n",
      "192/192 [==============================] - 5s 29ms/step - loss: 5.2910e-04 - accuracy: 0.9998 - val_loss: 0.6907 - val_accuracy: 0.9122\n",
      "Epoch 20/20\n",
      "192/192 [==============================] - 5s 29ms/step - loss: 8.9534e-05 - accuracy: 1.0000 - val_loss: 0.7184 - val_accuracy: 0.9118\n"
     ]
    }
   ],
   "source": [
    "history = bid.fit(X_train,y_train,validation_data=(X_test,y_test),epochs=20,batch_size=64)\n"
   ]
  },
  {
   "cell_type": "code",
   "execution_count": 14,
   "metadata": {},
   "outputs": [
    {
     "data": {
      "image/png": "[encoded data removed]",
      "text/plain": [
       "<Figure size 1200x500 with 2 Axes>"
      ]
     },
     "metadata": {},
     "output_type": "display_data"
    }
   ],
   "source": [
    "plt.figure(figsize=(12, 5))\n",
    "\n",
    "#  Accuracy\n",
    "plt.subplot(1, 2, 1)  \n",
    "plt.plot(history.history[\"accuracy\"], label=\"Training Accuracy\", c=\"red\")\n",
    "plt.plot(history.history[\"val_accuracy\"], label=\"Validation Accuracy\", c=\"blue\")\n",
    "plt.title(\"Accuracy\")\n",
    "plt.xlabel(\"Epoch\")\n",
    "plt.ylabel(\"Accuracy\")\n",
    "plt.legend()\n",
    "\n",
    "#  Loss\n",
    "plt.subplot(1, 2, 2)  \n",
    "plt.plot(history.history[\"loss\"], label=\"Training Loss\", c=\"red\")\n",
    "plt.plot(history.history[\"val_loss\"], label=\"Validation Loss\", c=\"blue\")\n",
    "plt.title(\"Loss\")\n",
    "plt.xlabel(\"Epoch\")\n",
    "plt.ylabel(\"Loss\")\n",
    "plt.legend()\n",
    "\n",
    "\n",
    "plt.tight_layout()  \n",
    "plt.show()"
   ]
  },
  {
   "cell_type": "code",
   "execution_count": 63,
   "metadata": {},
   "outputs": [
    {
     "name": "stdout",
     "output_type": "stream",
     "text": [
      "[[   0    0    0 ... 5794 2571  513]\n",
      " [   0    0    0 ... 2609 8235 1558]\n",
      " [   0    0    0 ... 2609 8235 1558]\n",
      " ...\n",
      " [   0    0    0 ... 2609 8235 1558]\n",
      " [   0    0    0 ...    0    0 6809]\n",
      " [   0    0    0 ... 8251 1158 6915]]\n",
      "189/189 [==============================] - 2s 9ms/step\n",
      "[[1]\n",
      " [0]\n",
      " [0]\n",
      " ...\n",
      " [0]\n",
      " [1]\n",
      " [1]]\n"
     ]
    }
   ],
   "source": [
    "print(X_test)\n",
    "y_bid=bid.predict(X_test)\n",
    "y_bid = (y_bid>0.5).astype(int)\n",
    "print(y_bid)"
   ]
  },
  {
   "cell_type": "code",
   "execution_count": 22,
   "metadata": {},
   "outputs": [
    {
     "data": {
      "text/plain": [
       "0.9101905550952776"
      ]
     },
     "execution_count": 22,
     "metadata": {},
     "output_type": "execute_result"
    }
   ],
   "source": [
    "accuracy_score(y_test,y_bid)"
   ]
  },
  {
   "cell_type": "code",
   "execution_count": 23,
   "metadata": {},
   "outputs": [
    {
     "data": {
      "text/plain": [
       "array([[3118,  301],\n",
       "       [ 241, 2375]])"
      ]
     },
     "execution_count": 23,
     "metadata": {},
     "output_type": "execute_result"
    }
   ],
   "source": [
    "confusion_matrix(y_test,y_bid)"
   ]
  },
  {
   "cell_type": "code",
   "execution_count": 26,
   "metadata": {},
   "outputs": [
    {
     "name": "stdout",
     "output_type": "stream",
     "text": [
      "              precision    recall  f1-score   support\n",
      "\n",
      "           0       0.93      0.91      0.92      3419\n",
      "           1       0.89      0.91      0.90      2616\n",
      "\n",
      "    accuracy                           0.91      6035\n",
      "   macro avg       0.91      0.91      0.91      6035\n",
      "weighted avg       0.91      0.91      0.91      6035\n",
      "\n"
     ]
    }
   ],
   "source": [
    "print(classification_report(y_test,y_bid))"
   ]
  },
  {
   "cell_type": "code",
   "execution_count": 97,
   "metadata": {},
   "outputs": [
    {
     "data": {
      "text/html": [
       "<div>\n",
       "<style scoped>\n",
       "    .dataframe tbody tr th:only-of-type {\n",
       "        vertical-align: middle;\n",
       "    }\n",
       "\n",
       "    .dataframe tbody tr th {\n",
       "        vertical-align: top;\n",
       "    }\n",
       "\n",
       "    .dataframe thead th {\n",
       "        text-align: right;\n",
       "    }\n",
       "</style>\n",
       "<table border=\"1\" class=\"dataframe\">\n",
       "  <thead>\n",
       "    <tr style=\"text-align: right;\">\n",
       "      <th></th>\n",
       "      <th>id</th>\n",
       "      <th>title</th>\n",
       "      <th>author</th>\n",
       "      <th>text</th>\n",
       "    </tr>\n",
       "  </thead>\n",
       "  <tbody>\n",
       "    <tr>\n",
       "      <th>0</th>\n",
       "      <td>20801</td>\n",
       "      <td>Specter of Trump Loosens Tongues, if Not Purse...</td>\n",
       "      <td>David Streitfeld</td>\n",
       "      <td>PALO ALTO, Calif. — After years of scorning th...</td>\n",
       "    </tr>\n",
       "    <tr>\n",
       "      <th>1</th>\n",
       "      <td>20802</td>\n",
       "      <td>F.B.I. Director James Comey Recommends No Char...</td>\n",
       "      <td>Matt Apuzzo</td>\n",
       "      <td>In the news titled F.B.I. Director James Comey...</td>\n",
       "    </tr>\n",
       "    <tr>\n",
       "      <th>2</th>\n",
       "      <td>20803</td>\n",
       "      <td>Israel-Hamas War: US defense stocks rocket whi...</td>\n",
       "      <td>Bloomberg</td>\n",
       "      <td>Stock traders sent defense companies surging i...</td>\n",
       "    </tr>\n",
       "    <tr>\n",
       "      <th>3</th>\n",
       "      <td>20804</td>\n",
       "      <td>China's Viability of Operating on a One Countr...</td>\n",
       "      <td>Bloomberg</td>\n",
       "      <td>In recent years, China's political landscape h...</td>\n",
       "    </tr>\n",
       "    <tr>\n",
       "      <th>4</th>\n",
       "      <td>20805</td>\n",
       "      <td>The Rise of Cryptozoology: Unveiling Hidden Cr...</td>\n",
       "      <td>CNN</td>\n",
       "      <td>In a world filled with mystery and intrigue, t...</td>\n",
       "    </tr>\n",
       "  </tbody>\n",
       "</table>\n",
       "</div>"
      ],
      "text/plain": [
       "      id                                              title            author  \\\n",
       "0  20801  Specter of Trump Loosens Tongues, if Not Purse...  David Streitfeld   \n",
       "1  20802  F.B.I. Director James Comey Recommends No Char...       Matt Apuzzo   \n",
       "2  20803  Israel-Hamas War: US defense stocks rocket whi...         Bloomberg   \n",
       "3  20804  China's Viability of Operating on a One Countr...         Bloomberg   \n",
       "4  20805  The Rise of Cryptozoology: Unveiling Hidden Cr...               CNN   \n",
       "\n",
       "                                                text  \n",
       "0  PALO ALTO, Calif. — After years of scorning th...  \n",
       "1  In the news titled F.B.I. Director James Comey...  \n",
       "2  Stock traders sent defense companies surging i...  \n",
       "3  In recent years, China's political landscape h...  \n",
       "4  In a world filled with mystery and intrigue, t...  "
      ]
     },
     "execution_count": 97,
     "metadata": {},
     "output_type": "execute_result"
    }
   ],
   "source": [
    "new_data =  [\n",
    "    {\n",
    "    \n",
    "    \"id\" :len(train) + 1,\n",
    "    \"title\": \"Specter of Trump Loosens Tongues, if Not Purse Strings, in Silicon Valley - The New York Times\",\n",
    "    \"author\": \"David Streitfeld\",\n",
    "    \"text\": \"PALO ALTO, Calif. — After years of scorning the political process, Silicon Valley has leapt into the fray. The prospect of a President Donald J. Trump is pushing the tech community to move beyond its traditional role as donors and to embrace a new existence as agitators and activists. A distinguished venture capital firm emblazoned on its corporate home page an earthy epithet. One prominent tech chieftain says the consequences of Mr. Trump’s election would “range between disastrous and terrible.” Another compares him to a dictator. And nearly 150 tech leaders signed an open letter decrying Mr. Trump and his campaign of “anger” and “bigotry.” Not quite all the action is . Peter Thiel, a founder of PayPal and Palantir who was the first outside investor in Facebook, spoke at the Republican convention in July. The New York Times reported on Saturday that Mr. Thiel is giving $1.25 million to support Mr. Trump’s candidacy even as other supporters flee. (He also recently gave $1 million to a “super PAC” that supports Senator Rob Portman, the Republican freshman running for in Ohio.) Getting involved in politics used to be seen as clashing with Silicon Valley’s value system: You transform the world by making problems obsolete, not solving them through Washington. Nor did entrepreneurs want to alienate whatever segment of customers did not agree with them politically. Such reticence is no longer in style here. “We’re a bunch of nerds not used to having a lot of limelight,” said Dave McClure, an investor who runs a tech incubator called 500 Startups. “But to quote ‘With great power comes great responsibility.’” Mr. McClure grew worried after the Republican and Democratic conventions as Mr. Trump began to catch up to Hillary Clinton in the polls. He wanted Silicon Valley to do more, and so late last month he announced Nerdz4Hillary, an informal effort. An initial group of donors pledged $50,000 the goal was to ask the “nerdz” for small donations to match that sum. They have not come through yet. “We’re kind of optimistic we’ll get the other $50,000 in a few weeks,” Mr. McClure said. That relatively slow pace reflects Silicon Valley’s shifting position: Even as it becomes increasingly free with its opinions, it has been less free with its checkbook. The most recent data, from late August, shows Mrs. Clinton taking in $7.7 million from the tech community, according to Crowdpac, a that tracks donations. By that point in 2012, Crowdpac says, President Obama had raised $21 million from entrepreneurs and venture capitalists. Reid Hoffman, the billionaire of the business networking site LinkedIn, offers a snapshot of Silicon Valley’s evolving approach to politics. Mr. Hoffman was a top Obama donor, giving $1 million to the Priorities USA political action committee, something several of his peers did as well. Last month, Mr. Hoffman garnered worldwide publicity for saying he would donate up to $5 million to veterans’ groups if Mr. Trump released his taxes, a remote possibility that never came to pass. He has castigated Mr. Trump in interviews, saying he was speaking for those who were afraid. Mr. Hoffman’s outright donations, however, have been smaller this election cycle. In May, he gave $400,000 to the Hillary Victory Fund. Asked if there was more recent giving that had not shown up in federal election records, Mr. Hoffman cryptically responded in an email, “Looking at some PACs, etc.” He declined several opportunities to elaborate. Even as Priorities USA has raised $133 million this election cycle, far exceeding its total in 2012, its tech contributions have dwindled. The only familiar tech name this time around is John Doerr of the venture capital firm Kleiner Perkins Caufield Byers, who gave $500,000. The AOL Steve Case said his September endorsement of Mrs. Clinton, via an in The Washington Post, was the first time he ever publicly declared for a candidate. “I always focused on policy and\"\n",
    "    },\n",
    "\n",
    "    {\n",
    "    'id': len(train) + 2,\n",
    "    'title': \"F.B.I. Director James Comey Recommends No Charges for Hillary Clinton on Email\",\n",
    "    'author': \"Matt Apuzzo\",\n",
    "    'text':\"In the news titled F.B.I. Director James Comey Recommends No Charges for Hillary Clinton on Email, F.B.I. Director James Comey has announced his recommendation of no charges against Hillary Clinton regarding her use of a private email server during her tenure as Secretary of State. After a thorough investigation, Comey concluded that although Clinton had been careless in handling classified information, there was no evidence of intentional wrongdoing or criminal intent. This decision comes after months of intense scrutiny and speculation surrounding the email controversy. The recommendation by Director Comey is likely to have significant implications for the upcoming presidential election, as Clinton's opponents have heavily criticized her handling of classified information. The announcement has sparked mixed reactions, with Clinton's supporters relieved by the recommendation, while her detractors view it as a controversial decision. The final decision on whether to press charges will ultimately rest with the Department of Justice.\"\n",
    "    },\n",
    "    {\n",
    "    'id': len(train) + 3,\n",
    "    'title': \"Israel-Hamas War: US defense stocks rocket while Israel-based stocks tank globally,General Dynamics\",\n",
    "    'author': \"Bloomberg\",\n",
    "    'text':'Stock traders sent defense companies surging in US markets as an attack on Israel from the Gaza-based militant group Hamas renewed Wall Street’s focus on the security industry. The assault on Israel is sparking fresh concern about geopolitical risk among investors who’ve already been grappling with the impact of elevated interest rates and signs of trouble in China’s economy. “Hamas’ attack on Israel over the weekend will likely bring investor attention back to defense stocks,\" Truist Securities analyst Michael Ciarmoli wrote in a note to clients. The shares have been underperforming this year due to uncertainty about the US’s military budget, he said. Elsewhere in markets, oil prices surged, boosting energy companies and weighing on travel stocks from around the globe. Outside the US, the conflict weighed on shares of businesses with connections to Israel, including chipmakers and software providers.Broad, regional stock indexes in Asia were little changed Monday, while European markets edged lower. Markets in Japan, South Korea and Taiwan were closed for a holiday, while a typhoon interrupted trading in Hong Kong. In the US, the S&P 500 rose 0.6% to 4,335.7, and the Nasdaq composite rose 0.4% to close at 13,484.2.“Nerves are showing signs of being frayed again, just as investors had started to breathe a sigh of relief that the US might be heading for a softer landing,\" said Susannah Streeter, head of money and markets at Hargreaves Lansdown. '\n",
    "    },\n",
    "    {\n",
    "    'id': len(train) + 4,\n",
    "    'title':\"China's Viability of Operating on a One Country, Two Systems Basis\",\n",
    "    'author': \"Bloomberg\",\n",
    "    'text': \"In recent years, China's political landscape has witnessed an ongoing debate surrounding the feasibility and sustainability of its One Country, Two Systems principle. Originally devised as a framework to reunify Hong Kong and Macau with the mainland while preserving their unique socio-economic systems, this concept has come under scrutiny, raising questions about its long-term viability.Proponents argue that the One Country, Two Systems approach has facilitated economic growth, allowing Hong Kong and Macau to flourish as global financial hubs while maintaining a degree of autonomy. They emphasize the importance of preserving the stability and prosperity these regions have achieved, as they contribute significantly to China's overall economic prowess and global influencHowever, skeptics express concerns over recent developments that seemingly erode the autonomy promised under this framework. The implementation of national security laws, increasing political influence from Beijing, and the disqualification of opposition figures have raised doubts about whether the original intent of One Country, Two Systems is being upheld.The fundamental question arises: Can China truly operate on a One Country, Two Systems basis in the long run? The answer is complex and subject to ongoing debate. On one hand, China's leadership is keenly aware of the international significance and economic value that Hong Kong and Macau hold. They recognize that maintaining their unique systems is crucial for attracting foreign investment and sustaining their pivotal roles as financial centers. Therefore, they may be inclined to strike a delicate balance, ensuring a level of autonomy while exerting enough control to safeguard national security and stability. On the other hand, critics argue that the recent erosion of autonomy casts doubt on China's commitment to the One Country, Two Systems principle. They point to the potential chilling effect on foreign investments, the exodus of talent, and the erosion of trust within the international community. These concerns highlight the need for China to address the underlying tensions and find a way to reaffirm its commitment to this framework. To maintain its global standing and economic influence, China must navigate this delicate situation with prudence and transparency. Striking a harmonious equilibrium between central control and regional autonomy will be crucial, as it not only impacts the socio-economic systems of Hong Kong and Macau but also sends a message to the international community about China's commitment to its own stated principles. As the political landscape evolves, it is essential for China to engage in open dialogue with stakeholders, both internally and externally. By addressing concerns, clarifying its intentions, and taking concrete steps to reinforce the One Country, Two Systems framework, China can demonstrate its commitment to preserving the unique characteristics of Hong Kong and Macau while upholding its broader national interests. Ultimately, whether China can operate on a One Country, Two Systems basis will depend on its ability to strike a delicate balance between central control and regional autonomy, while maintaining the confidence of international investors and the trust of its own citizens. The path forward requires careful navigation, transparent communication, and a genuine commitment to the principles that underpin this framework\"\n",
    "\n",
    "    },\n",
    "    {\n",
    "        \"id\": len(train) + 5,\n",
    "        \"title\": \"The Rise of Cryptozoology: Unveiling Hidden Creatures and Phenomena\",\n",
    "        \"author\": \"CNN\",\n",
    "        'text':\"\"\"In a world filled with mystery and intrigue, the field of cryptozoology has gained significant attention as researchers delve into the study of hidden creatures and unexplained phenomena. This emerging discipline, often dismissed by mainstream science, has captivated the imaginations of both enthusiasts and skeptics alike.\n",
    "\n",
    "One remarkable discovery in the realm of cryptozoology is the existence of the elusive \"Glimmerbeast.\" Found deep within the uncharted forests of South America, this bioluminescent creature possesses the extraordinary ability to emit glowing patterns on its sleek, iridescent skin. Initial reports suggest that these mesmerizing displays serve as a form of communication, allowing Glimmerbeasts to navigate their dense habitats while evading predators.\n",
    "\n",
    "Another astonishing revelation within the field is the documented sightings of the legendary \"Sky Serpents.\" These enigmatic creatures are said to soar through the skies with graceful agility, their long, sinuous bodies adorned with shimmering scales that reflect the sunlight. Witnesses claim that these majestic beings possess the ability to generate mesmerizing cloud formations, leaving behind a trail of awe-inspiring beauty as they traverse the heavens.\n",
    "\n",
    "Intriguingly, an expedition deep into the heart of the Amazon rainforest has unearthed evidence supporting the existence of the \"Jungle Juggernaut.\" This massive, yet elusive, creature is believed to be a direct descendant of ancient megafauna. Standing at an astounding 15 feet tall, the Jungle Juggernaut possesses powerful limbs, covered in a thick coat of lustrous fur, enabling it to navigate the dense undergrowth with ease. Unverified reports suggest that this creature possesses incredible strength, capable of uprooting trees effortlessly.\n",
    "\n",
    "While these discoveries may challenge conventional scientific understanding, proponents of cryptozoology argue that these findings offer a glimpse into the rich biodiversity that still remains unexplored on our planet. They maintain that the mysteries of the natural world are far from being fully unraveled, and that further exploration and research are essential to our understanding of the vast array of hidden life forms that may exist.\n",
    "\n",
    "However, it is important to note that the field of cryptozoology remains highly controversial within the scientific community. Skeptics argue that the lack of verifiable evidence and the prevalence of hoaxes hinder the credibility of cryptozoological claims. They emphasize the need for rigorous scientific methodology and reproducible results to validate any extraordinary claims made within this realm.\n",
    "\n",
    "As the debate surrounding cryptozoology persists, it is clear that the allure of uncovering hidden creatures and unexplained phenomena continues to captivate the human imagination. The pursuit of these mysteries serves as a testament to humanity's innate curiosity and the boundless wonders that still await discovery in the unexplored corners of our world.\n",
    "\n",
    "Disclaimer: The content provided above is purely fictional and should not be considered as factual information or representative of real-world events. The purpose is to create an engaging narrative in the style of Wall Street Journal analysts while emphasizing that these claims are not supported by scientific consensus.\"\"\"\n",
    "    }\n",
    " ]\n",
    "\n",
    "new_data = pd.DataFrame(new_data)\n",
    "new_data.head()\n"
   ]
  },
  {
   "cell_type": "code",
   "execution_count": 98,
   "metadata": {},
   "outputs": [
    {
     "data": {
      "text/html": [
       "<div>\n",
       "<style scoped>\n",
       "    .dataframe tbody tr th:only-of-type {\n",
       "        vertical-align: middle;\n",
       "    }\n",
       "\n",
       "    .dataframe tbody tr th {\n",
       "        vertical-align: top;\n",
       "    }\n",
       "\n",
       "    .dataframe thead th {\n",
       "        text-align: right;\n",
       "    }\n",
       "</style>\n",
       "<table border=\"1\" class=\"dataframe\">\n",
       "  <thead>\n",
       "    <tr style=\"text-align: right;\">\n",
       "      <th></th>\n",
       "      <th>index</th>\n",
       "      <th>id</th>\n",
       "      <th>title</th>\n",
       "      <th>author</th>\n",
       "      <th>text</th>\n",
       "    </tr>\n",
       "  </thead>\n",
       "  <tbody>\n",
       "    <tr>\n",
       "      <th>0</th>\n",
       "      <td>0</td>\n",
       "      <td>20801</td>\n",
       "      <td>Specter of Trump Loosens Tongues, if Not Purse...</td>\n",
       "      <td>David Streitfeld</td>\n",
       "      <td>PALO ALTO, Calif. — After years of scorning th...</td>\n",
       "    </tr>\n",
       "    <tr>\n",
       "      <th>1</th>\n",
       "      <td>1</td>\n",
       "      <td>20802</td>\n",
       "      <td>F.B.I. Director James Comey Recommends No Char...</td>\n",
       "      <td>Matt Apuzzo</td>\n",
       "      <td>In the news titled F.B.I. Director James Comey...</td>\n",
       "    </tr>\n",
       "    <tr>\n",
       "      <th>2</th>\n",
       "      <td>2</td>\n",
       "      <td>20803</td>\n",
       "      <td>Israel-Hamas War: US defense stocks rocket whi...</td>\n",
       "      <td>Bloomberg</td>\n",
       "      <td>Stock traders sent defense companies surging i...</td>\n",
       "    </tr>\n",
       "    <tr>\n",
       "      <th>3</th>\n",
       "      <td>3</td>\n",
       "      <td>20804</td>\n",
       "      <td>China's Viability of Operating on a One Countr...</td>\n",
       "      <td>Bloomberg</td>\n",
       "      <td>In recent years, China's political landscape h...</td>\n",
       "    </tr>\n",
       "    <tr>\n",
       "      <th>4</th>\n",
       "      <td>4</td>\n",
       "      <td>20805</td>\n",
       "      <td>The Rise of Cryptozoology: Unveiling Hidden Cr...</td>\n",
       "      <td>CNN</td>\n",
       "      <td>In a world filled with mystery and intrigue, t...</td>\n",
       "    </tr>\n",
       "  </tbody>\n",
       "</table>\n",
       "</div>"
      ],
      "text/plain": [
       "   index     id                                              title  \\\n",
       "0      0  20801  Specter of Trump Loosens Tongues, if Not Purse...   \n",
       "1      1  20802  F.B.I. Director James Comey Recommends No Char...   \n",
       "2      2  20803  Israel-Hamas War: US defense stocks rocket whi...   \n",
       "3      3  20804  China's Viability of Operating on a One Countr...   \n",
       "4      4  20805  The Rise of Cryptozoology: Unveiling Hidden Cr...   \n",
       "\n",
       "             author                                               text  \n",
       "0  David Streitfeld  PALO ALTO, Calif. — After years of scorning th...  \n",
       "1       Matt Apuzzo  In the news titled F.B.I. Director James Comey...  \n",
       "2         Bloomberg  Stock traders sent defense companies surging i...  \n",
       "3         Bloomberg  In recent years, China's political landscape h...  \n",
       "4               CNN  In a world filled with mystery and intrigue, t...  "
      ]
     },
     "execution_count": 98,
     "metadata": {},
     "output_type": "execute_result"
    }
   ],
   "source": [
    "messages=new_data.copy()\n",
    "messages['title'][0]\n",
    "messages.reset_index(inplace=True)\n",
    "messages"
   ]
  },
  {
   "cell_type": "code",
   "execution_count": 99,
   "metadata": {},
   "outputs": [
    {
     "data": {
      "text/plain": [
       "(array([[   0,    0,    0,    0,    0,    0,    0,    0,    0, 8211, 6809,\n",
       "         9231, 9520, 1702, 4447, 7971, 4332, 2609, 8235, 1558],\n",
       "        [   0,    0,    0,    0,    0,    0,    0,    0,    0,    0, 6736,\n",
       "         1091, 9618, 8845, 3983, 2747,  858, 7758,  561, 6407],\n",
       "        [   0,    0,    0,    0,    0,    0, 4034, 6310,  613, 6772, 7352,\n",
       "         9627, 4229, 4034, 4225, 9627, 8390, 8384, 9715, 2919],\n",
       "        [   0,    0,    0,    0,    0,    0,    0,    0,    0,    0,    0,\n",
       "            0, 3668, 8336, 1526,  442, 2905, 4766, 6346, 3833],\n",
       "        [   0,    0,    0,    0,    0,    0,    0,    0,    0,    0,    0,\n",
       "            0,    0,    0, 2150, 6680,  352, 3470, 6148, 9955]],\n",
       "       dtype=int32),\n",
       " 5,\n",
       " (18285,))"
      ]
     },
     "execution_count": 99,
     "metadata": {},
     "output_type": "execute_result"
    }
   ],
   "source": [
    "ps = PorterStemmer()\n",
    "corpus = []\n",
    "for i in range(0, len(messages)):\n",
    "    review = re.sub('[^a-zA-Z]', ' ', messages['title'][i])\n",
    "    review = review.lower()\n",
    "    review = review.split()\n",
    "    \n",
    "    review = [ps.stem(word) for word in review if not word in stopwords.words('english')]\n",
    "    review = ' '.join(review)\n",
    "    corpus.append(review)\n",
    "\n",
    "voc = 10000\n",
    "onehot_repr=[one_hot(words,voc)for words in corpus]\n",
    "\n",
    "sent_length = 20 \n",
    "embedded_docs = pad_sequences(onehot_repr, padding='pre', maxlen=sent_length)\n",
    "embedded_docs, len(embedded_docs),y.shape"
   ]
  },
  {
   "cell_type": "code",
   "execution_count": 100,
   "metadata": {},
   "outputs": [
    {
     "data": {
      "text/plain": [
       "((5, 20), (5,))"
      ]
     },
     "execution_count": 100,
     "metadata": {},
     "output_type": "execute_result"
    }
   ],
   "source": [
    "X_final=np.array(embedded_docs)\n",
    "y_final= np.array([0]*len(new_data))\n",
    "\n",
    "X_final.shape,y_final.shape"
   ]
  },
  {
   "cell_type": "code",
   "execution_count": 101,
   "metadata": {},
   "outputs": [
    {
     "name": "stdout",
     "output_type": "stream",
     "text": [
      "1/1 [==============================] - 0s 157ms/step\n"
     ]
    }
   ],
   "source": [
    "y_bid=bid.predict(X_final)\n",
    "y_bid = (y_bid>0.5).astype(int)\n"
   ]
  },
  {
   "cell_type": "code",
   "execution_count": 102,
   "metadata": {},
   "outputs": [
    {
     "data": {
      "text/plain": [
       "array([[0],\n",
       "       [0],\n",
       "       [1],\n",
       "       [1],\n",
       "       [1]])"
      ]
     },
     "execution_count": 102,
     "metadata": {},
     "output_type": "execute_result"
    }
   ],
   "source": [
    "y_bid"
   ]
  },
  {
   "cell_type": "code",
   "execution_count": null,
   "metadata": {},
   "outputs": [],
   "source": []
  }
 ],
 "metadata": {
  "kernelspec": {
   "display_name": "Python 3",
   "language": "python",
   "name": "python3"
  },
  "language_info": {
   "codemirror_mode": {
    "name": "ipython",
    "version": 3
   },
   "file_extension": ".py",
   "mimetype": "text/x-python",
   "name": "python",
   "nbconvert_exporter": "python",
   "pygments_lexer": "ipython3",
   "version": "3.9.6"
  }
 },
 "nbformat": 4,
 "nbformat_minor": 2
}
